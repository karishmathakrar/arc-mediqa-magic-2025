{
 "cells": [
  {
   "cell_type": "code",
   "execution_count": 2,
   "metadata": {},
   "outputs": [],
   "source": [
    "import json\n",
    "import pandas as pd\n",
    "import os\n",
    "from PIL import Image\n",
    "from IPython.display import display, Image as IPImage\n",
    "import google.generativeai as genai\n",
    "from dotenv import load_dotenv"
   ]
  },
  {
   "cell_type": "code",
   "execution_count": 5,
   "metadata": {},
   "outputs": [],
   "source": [
    "# Load metadata for training data\n",
    "json_file = os.path.join(\"2024_dataset\", \"train_downloaded.json\")\n",
    "with open(json_file, 'r', encoding='utf-8') as f:\n",
    "    data = json.load(f)"
   ]
  },
  {
   "cell_type": "code",
   "execution_count": 6,
   "metadata": {},
   "outputs": [],
   "source": [
    "# Define paths\n",
    "images_dir = os.path.join(\"2024_dataset\", \"images\", \"train\")\n",
    "script_path = os.path.join(\"2024_dataset\", \"download_data.py\")"
   ]
  },
  {
   "cell_type": "code",
   "execution_count": 13,
   "metadata": {},
   "outputs": [
    {
     "data": {
      "text/html": [
       "<div>\n",
       "<style scoped>\n",
       "    .dataframe tbody tr th:only-of-type {\n",
       "        vertical-align: middle;\n",
       "    }\n",
       "\n",
       "    .dataframe tbody tr th {\n",
       "        vertical-align: top;\n",
       "    }\n",
       "\n",
       "    .dataframe thead th {\n",
       "        text-align: right;\n",
       "    }\n",
       "</style>\n",
       "<table border=\"1\" class=\"dataframe\">\n",
       "  <thead>\n",
       "    <tr style=\"text-align: right;\">\n",
       "      <th></th>\n",
       "      <th>encounter_id</th>\n",
       "      <th>image_path</th>\n",
       "      <th>query_title</th>\n",
       "      <th>query_content</th>\n",
       "      <th>author_id</th>\n",
       "      <th>response_content</th>\n",
       "      <th>completeness</th>\n",
       "      <th>contains_freq_ans</th>\n",
       "    </tr>\n",
       "  </thead>\n",
       "  <tbody>\n",
       "    <tr>\n",
       "      <th>0</th>\n",
       "      <td>ih99w9</td>\n",
       "      <td>2024_dataset\\images\\train\\ih99w9.jpg</td>\n",
       "      <td>I had this mole that appeared under my eye abo...</td>\n",
       "      <td></td>\n",
       "      <td>annotator1</td>\n",
       "      <td>Most probably it is a case of inflamed pimple,...</td>\n",
       "      <td>1</td>\n",
       "      <td>1</td>\n",
       "    </tr>\n",
       "    <tr>\n",
       "      <th>1</th>\n",
       "      <td>11n62qx</td>\n",
       "      <td>2024_dataset\\images\\train\\11n62qx.jpg</td>\n",
       "      <td>Spot in my hairline</td>\n",
       "      <td></td>\n",
       "      <td>annotator1</td>\n",
       "      <td>Most probably it is a case of solar lentigo, a...</td>\n",
       "      <td>1</td>\n",
       "      <td>1</td>\n",
       "    </tr>\n",
       "    <tr>\n",
       "      <th>2</th>\n",
       "      <td>vk578x</td>\n",
       "      <td>2024_dataset\\images\\train\\vk578x.jpg</td>\n",
       "      <td>Can someone help me ID this random bump? Today...</td>\n",
       "      <td></td>\n",
       "      <td>annotator1</td>\n",
       "      <td>Most propably it is a case of a cyst in the gr...</td>\n",
       "      <td>1</td>\n",
       "      <td>1</td>\n",
       "    </tr>\n",
       "    <tr>\n",
       "      <th>3</th>\n",
       "      <td>123bko0</td>\n",
       "      <td>2024_dataset\\images\\train\\123bko0.jpg</td>\n",
       "      <td>Rough bump/spot on the side of finger? What ex...</td>\n",
       "      <td></td>\n",
       "      <td>annotator1</td>\n",
       "      <td>It is a case of common wart. This noncancerous...</td>\n",
       "      <td>1</td>\n",
       "      <td>1</td>\n",
       "    </tr>\n",
       "    <tr>\n",
       "      <th>4</th>\n",
       "      <td>11m0l9c</td>\n",
       "      <td>2024_dataset\\images\\train\\11m0l9c.jpg</td>\n",
       "      <td>Puffy line on face any suggestions?</td>\n",
       "      <td></td>\n",
       "      <td>annotator1</td>\n",
       "      <td>Most probably it is a case of deep coarse wrin...</td>\n",
       "      <td>1</td>\n",
       "      <td>1</td>\n",
       "    </tr>\n",
       "  </tbody>\n",
       "</table>\n",
       "</div>"
      ],
      "text/plain": [
       "  encounter_id                             image_path  \\\n",
       "0       ih99w9   2024_dataset\\images\\train\\ih99w9.jpg   \n",
       "1      11n62qx  2024_dataset\\images\\train\\11n62qx.jpg   \n",
       "2       vk578x   2024_dataset\\images\\train\\vk578x.jpg   \n",
       "3      123bko0  2024_dataset\\images\\train\\123bko0.jpg   \n",
       "4      11m0l9c  2024_dataset\\images\\train\\11m0l9c.jpg   \n",
       "\n",
       "                                         query_title query_content  \\\n",
       "0  I had this mole that appeared under my eye abo...                 \n",
       "1                                Spot in my hairline                 \n",
       "2  Can someone help me ID this random bump? Today...                 \n",
       "3  Rough bump/spot on the side of finger? What ex...                 \n",
       "4                Puffy line on face any suggestions?                 \n",
       "\n",
       "    author_id                                   response_content  \\\n",
       "0  annotator1  Most probably it is a case of inflamed pimple,...   \n",
       "1  annotator1  Most probably it is a case of solar lentigo, a...   \n",
       "2  annotator1  Most propably it is a case of a cyst in the gr...   \n",
       "3  annotator1  It is a case of common wart. This noncancerous...   \n",
       "4  annotator1  Most probably it is a case of deep coarse wrin...   \n",
       "\n",
       "   completeness  contains_freq_ans  \n",
       "0             1                  1  \n",
       "1             1                  1  \n",
       "2             1                  1  \n",
       "3             1                  1  \n",
       "4             1                  1  "
      ]
     },
     "metadata": {},
     "output_type": "display_data"
    }
   ],
   "source": [
    "# Combine all components of the JSON file into a DataFrame with separate response columns\n",
    "train_data = []\n",
    "\n",
    "for entry in data:\n",
    "    image_path = os.path.join(images_dir, f\"{entry['encounter_id']}.jpg\")\n",
    "    \n",
    "    if os.path.exists(image_path):\n",
    "        for response in entry[\"responses\"]:\n",
    "            train_data.append({\n",
    "                \"encounter_id\": entry[\"encounter_id\"],\n",
    "                \"image_path\": image_path, \n",
    "                \"query_title\": entry[\"query_title_en\"],\n",
    "                \"query_content\": entry[\"query_content_en\"],\n",
    "                \"author_id\": response[\"author_id\"],\n",
    "                \"response_content\": response[\"content_en\"],\n",
    "                \"completeness\": response[\"completeness\"],\n",
    "                \"contains_freq_ans\": response[\"contains_freq_ans\"]\n",
    "            })\n",
    "\n",
    "# Convert to DataFrame\n",
    "train_df = pd.DataFrame(train_data)\n",
    "display(train_df.head())"
   ]
  },
  {
   "cell_type": "code",
   "execution_count": 14,
   "metadata": {},
   "outputs": [
    {
     "data": {
      "text/plain": [
       "213"
      ]
     },
     "execution_count": 14,
     "metadata": {},
     "output_type": "execute_result"
    }
   ],
   "source": [
    "len(train_df)"
   ]
  },
  {
   "cell_type": "code",
   "execution_count": 12,
   "metadata": {},
   "outputs": [
    {
     "data": {
      "text/html": [
       "<div>\n",
       "<style scoped>\n",
       "    .dataframe tbody tr th:only-of-type {\n",
       "        vertical-align: middle;\n",
       "    }\n",
       "\n",
       "    .dataframe tbody tr th {\n",
       "        vertical-align: top;\n",
       "    }\n",
       "\n",
       "    .dataframe thead th {\n",
       "        text-align: right;\n",
       "    }\n",
       "</style>\n",
       "<table border=\"1\" class=\"dataframe\">\n",
       "  <thead>\n",
       "    <tr style=\"text-align: right;\">\n",
       "      <th></th>\n",
       "      <th>encounter_id</th>\n",
       "      <th>image_path</th>\n",
       "      <th>query_title</th>\n",
       "      <th>query_content</th>\n",
       "      <th>author_id</th>\n",
       "      <th>response_content</th>\n",
       "      <th>completeness</th>\n",
       "      <th>contains_freq_ans</th>\n",
       "    </tr>\n",
       "  </thead>\n",
       "  <tbody>\n",
       "    <tr>\n",
       "      <th>0</th>\n",
       "      <td>11mk4th</td>\n",
       "      <td>2024_dataset\\images\\train\\11mk4th.jpg</td>\n",
       "      <td>M21 Bump? has persisted for over a year now ev...</td>\n",
       "      <td>[deleted]</td>\n",
       "      <td>annotator1</td>\n",
       "      <td>Most probably it is a case of Milia. A milium ...</td>\n",
       "      <td>1</td>\n",
       "      <td>1</td>\n",
       "    </tr>\n",
       "    <tr>\n",
       "      <th>1</th>\n",
       "      <td>125gfgg</td>\n",
       "      <td>2024_dataset\\images\\train\\125gfgg.jpg</td>\n",
       "      <td>Maybe a pimple under the skin</td>\n",
       "      <td>[deleted]</td>\n",
       "      <td>annotator1</td>\n",
       "      <td>Most probably this is a case of blind pimple. ...</td>\n",
       "      <td>1</td>\n",
       "      <td>1</td>\n",
       "    </tr>\n",
       "    <tr>\n",
       "      <th>2</th>\n",
       "      <td>zmsedx</td>\n",
       "      <td>2024_dataset\\images\\train\\zmsedx.jpg</td>\n",
       "      <td>Random ring of blister appeared overnight - no...</td>\n",
       "      <td>[deleted]</td>\n",
       "      <td>annotator1</td>\n",
       "      <td>This is a case of contact eczema most probably...</td>\n",
       "      <td>1</td>\n",
       "      <td>1</td>\n",
       "    </tr>\n",
       "    <tr>\n",
       "      <th>3</th>\n",
       "      <td>11m079w</td>\n",
       "      <td>2024_dataset\\images\\train\\11m079w.jpg</td>\n",
       "      <td>[deleted by user]</td>\n",
       "      <td>[removed]</td>\n",
       "      <td>annotator1</td>\n",
       "      <td>Cold, dry weather, sun damage, and frequently ...</td>\n",
       "      <td>1</td>\n",
       "      <td>1</td>\n",
       "    </tr>\n",
       "    <tr>\n",
       "      <th>4</th>\n",
       "      <td>z8b11d</td>\n",
       "      <td>2024_dataset\\images\\train\\z8b11d.jpg</td>\n",
       "      <td>Can anyone identify this on my husband’s face?...</td>\n",
       "      <td>[deleted]</td>\n",
       "      <td>annotator1</td>\n",
       "      <td>It is a case of rosacea. Rosacea is a chronic ...</td>\n",
       "      <td>1</td>\n",
       "      <td>1</td>\n",
       "    </tr>\n",
       "  </tbody>\n",
       "</table>\n",
       "</div>"
      ],
      "text/plain": [
       "  encounter_id                             image_path  \\\n",
       "0      11mk4th  2024_dataset\\images\\train\\11mk4th.jpg   \n",
       "1      125gfgg  2024_dataset\\images\\train\\125gfgg.jpg   \n",
       "2       zmsedx   2024_dataset\\images\\train\\zmsedx.jpg   \n",
       "3      11m079w  2024_dataset\\images\\train\\11m079w.jpg   \n",
       "4       z8b11d   2024_dataset\\images\\train\\z8b11d.jpg   \n",
       "\n",
       "                                         query_title query_content  \\\n",
       "0  M21 Bump? has persisted for over a year now ev...     [deleted]   \n",
       "1                      Maybe a pimple under the skin     [deleted]   \n",
       "2  Random ring of blister appeared overnight - no...     [deleted]   \n",
       "3                                  [deleted by user]     [removed]   \n",
       "4  Can anyone identify this on my husband’s face?...     [deleted]   \n",
       "\n",
       "    author_id                                   response_content  \\\n",
       "0  annotator1  Most probably it is a case of Milia. A milium ...   \n",
       "1  annotator1  Most probably this is a case of blind pimple. ...   \n",
       "2  annotator1  This is a case of contact eczema most probably...   \n",
       "3  annotator1  Cold, dry weather, sun damage, and frequently ...   \n",
       "4  annotator1  It is a case of rosacea. Rosacea is a chronic ...   \n",
       "\n",
       "   completeness  contains_freq_ans  \n",
       "0             1                  1  \n",
       "1             1                  1  \n",
       "2             1                  1  \n",
       "3             1                  1  \n",
       "4             1                  1  "
      ]
     },
     "metadata": {},
     "output_type": "display_data"
    }
   ],
   "source": [
    "# Combine all components of the JSON file into a DataFrame for missing images\n",
    "train_data_missing = []\n",
    "\n",
    "for entry in data:\n",
    "    image_path = os.path.join(images_dir, f\"{entry['encounter_id']}.jpg\")\n",
    "    \n",
    "    if not os.path.exists(image_path):\n",
    "        for response in entry[\"responses\"]:\n",
    "            train_data_missing.append({\n",
    "                \"encounter_id\": entry[\"encounter_id\"],\n",
    "                \"image_path\": image_path,\n",
    "                \"query_title\": entry[\"query_title_en\"],\n",
    "                \"query_content\": entry[\"query_content_en\"],\n",
    "                \"author_id\": response[\"author_id\"],\n",
    "                \"response_content\": response[\"content_en\"],\n",
    "                \"completeness\": response[\"completeness\"],\n",
    "                \"contains_freq_ans\": response[\"contains_freq_ans\"]\n",
    "            })\n",
    "\n",
    "# Convert to DataFrame\n",
    "train_df_missing = pd.DataFrame(train_data_missing)\n",
    "display(train_df_missing.head())"
   ]
  },
  {
   "cell_type": "code",
   "execution_count": 15,
   "metadata": {},
   "outputs": [
    {
     "data": {
      "text/plain": [
       "134"
      ]
     },
     "execution_count": 15,
     "metadata": {},
     "output_type": "execute_result"
    }
   ],
   "source": [
    "len(train_df_missing)"
   ]
  },
  {
   "cell_type": "code",
   "execution_count": 19,
   "metadata": {},
   "outputs": [
    {
     "data": {
      "text/plain": [
       "134"
      ]
     },
     "execution_count": 19,
     "metadata": {},
     "output_type": "execute_result"
    }
   ],
   "source": [
    "# Get unique encounter ids in the missing images dataframe\n",
    "missing_encounter_ids = train_df_missing[\"encounter_id\"].unique()\n",
    "len(missing_encounter_ids)"
   ]
  },
  {
   "cell_type": "code",
   "execution_count": 16,
   "metadata": {},
   "outputs": [
    {
     "data": {
      "text/plain": [
       "233"
      ]
     },
     "execution_count": 16,
     "metadata": {},
     "output_type": "execute_result"
    }
   ],
   "source": [
    "# How many files are in the images directory\n",
    "len(os.listdir(images_dir))"
   ]
  },
  {
   "cell_type": "code",
   "execution_count": 20,
   "metadata": {},
   "outputs": [
    {
     "name": "stdout",
     "output_type": "stream",
     "text": [
      "Number of unique encounter_ids: 347\n"
     ]
    }
   ],
   "source": [
    "# Get unique encounter_id count\n",
    "unique_encounter_ids = len(set(entry[\"encounter_id\"] for entry in data))\n",
    "print(f\"Number of unique encounter_ids: {unique_encounter_ids}\")"
   ]
  },
  {
   "cell_type": "code",
   "execution_count": null,
   "metadata": {},
   "outputs": [],
   "source": []
  }
 ],
 "metadata": {
  "kernelspec": {
   "display_name": ".venv",
   "language": "python",
   "name": "python3"
  },
  "language_info": {
   "codemirror_mode": {
    "name": "ipython",
    "version": 3
   },
   "file_extension": ".py",
   "mimetype": "text/x-python",
   "name": "python",
   "nbconvert_exporter": "python",
   "pygments_lexer": "ipython3",
   "version": "3.10.7"
  }
 },
 "nbformat": 4,
 "nbformat_minor": 2
}
